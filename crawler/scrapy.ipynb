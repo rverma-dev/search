{
 "cells": [
  {
   "cell_type": "code",
   "execution_count": null,
   "metadata": {},
   "outputs": [],
   "source": [
    "import scrapy\n",
    "\n",
    "\n",
    "class MofanSpider(scrapy.Spider):\n",
    "    name = \"mofan\"\n",
    "    start_urls = [\n",
    "        'https://mofanpy.com/',\n",
    "    ]\n",
    "    # unseen = set()\n",
    "    # seen = set()      # we don't need these two as scrapy will deal with them automatically\n",
    "\n",
    "    def parse(self, response):\n",
    "        yield {     # return some results\n",
    "            'title': response.css('h1::text').extract_first(default='Missing').strip().replace('\"', \"\"),\n",
    "            'url': response.url,\n",
    "        }\n",
    "\n",
    "        urls = response.css('a::attr(href)').re(r'^/.+?/$')     # find all sub urls\n",
    "        for url in urls:\n",
    "            yield response.follow(url, callback=self.parse)     # it will filter duplication automatically\n"
   ]
  },
  {
   "cell_type": "markdown",
   "metadata": {},
   "source": [
    "# Domain scrapping\n",
    "\n",
    "Scrapping\n",
    "1. https://en.wikipedia.org/wiki/Bank#:~:text=Banks%20borrow%20money%20by%20accepting,such%20as%20banknotes%20and%20bonds.&text=If%20all%20the%20banks%20increase,in%20the%20economy%20will%20increase\n",
    "2. https://geographyfieldwork.com/HowBanksWork.htm\n",
    "3. https://corporatefinanceinstitute.com/resources/knowledge/finance/banking-fundamentals/\n",
    "4. https://money.howstuffworks.com/personal-finance/banking/bank1.htm\n",
    "5. https://www.investopedia.com/terms/b/bank.asp\n",
    "6. https://www.forbes.com/advisor/banking/how-do-banks-work/"
   ]
  }
 ],
 "metadata": {
  "language_info": {
   "name": "python"
  },
  "orig_nbformat": 4
 },
 "nbformat": 4,
 "nbformat_minor": 2
}
